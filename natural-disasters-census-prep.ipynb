{
 "cells": [
  {
   "cell_type": "code",
   "execution_count": 1,
   "metadata": {},
   "outputs": [],
   "source": [
    "from functools import reduce\n",
    "import os\n",
    "import pandas as pd\n",
    "import time"
   ]
  },
  {
   "cell_type": "markdown",
   "metadata": {},
   "source": [
    "Create the lists of Census table columns"
   ]
  },
  {
   "cell_type": "code",
   "execution_count": 2,
   "metadata": {},
   "outputs": [],
   "source": [
    "race_cols = ['B03002_001E', 'B03002_003E']\n",
    "age_cols = ['B01001_003E', 'B01001_027E', 'B01001_020E', 'B01001_021E', 'B01001_022E', 'B01001_023E', 'B01001_024E', 'B01001_025E', 'B01001_044E', 'B01001_045E', 'B01001_046E', 'B01001_047E', 'B01001_048E', 'B01001_049E']\n",
    "working_age_pop_cols = ['B23001_006E','B23001_013E','B23001_020E','B23001_027E','B23001_034E','B23001_041E','B23001_048E','B23001_055E','B23001_062E','B23001_069E','B23001_074E','B23001_079E','B23001_084E','B23001_092E','B23001_099E','B23001_106E','B23001_113E','B23001_120E','B23001_127E','B23001_134E','B23001_141E','B23001_148E','B23001_155E','B23001_160E','B23001_165E','B23001_170E']\n",
    "unemployed_pop_cols = ['B23001_008E','B23001_015E','B23001_022E','B23001_029E','B23001_036E','B23001_043E','B23001_050E','B23001_057E','B23001_064E','B23001_071E','B23001_076E','B23001_081E','B23001_086E','B23001_094E','B23001_101E','B23001_108E','B23001_115E','B23001_122E','B23001_129E','B23001_136E','B23001_143E','B23001_150E','B23001_157E','B23001_162E','B23001_167E','B23001_172E']\n",
    "med_hh_inc_cols = ['B19013_001E']\n",
    "snap_cols = ['B22001_002E', 'B22001_005E']\n",
    "ownership_cols = ['B25003_002E', 'B25003_003E']"
   ]
  },
  {
   "cell_type": "markdown",
   "metadata": {},
   "source": [
    "Read in the Census API key"
   ]
  },
  {
   "cell_type": "code",
   "execution_count": 3,
   "metadata": {},
   "outputs": [],
   "source": [
    "key = open('census_key.txt', 'r').read()"
   ]
  },
  {
   "cell_type": "markdown",
   "metadata": {},
   "source": [
    "Define the function to make API calls"
   ]
  },
  {
   "cell_type": "code",
   "execution_count": 4,
   "metadata": {},
   "outputs": [],
   "source": [
    "def get_census_year(year, variables, geography):\n",
    "    census_endpoint = 'https://api.census.gov/data/'\n",
    "    census_path = '/acs5' if year == 2009 else '/acs/acs5'\n",
    "    census_url = census_endpoint + str(year) + census_path + '?get=' + ','.join(variables) + ',NAME&for=' + geography.replace(' ','%20') + ':*&key=' + key\n",
    "    \n",
    "    results = pd.read_json(census_url)\n",
    "    results = results.rename(columns=results.iloc[0])[1:]\n",
    "    results['year'] = year\n",
    "    \n",
    "    time.sleep(2)\n",
    "    \n",
    "    return results\n",
    "\n",
    "def get_census_years(from_year, to_year, variables, geography):\n",
    "    results = pd.DataFrame() # Create an empty dataframe\n",
    "    \n",
    "    for year in range(from_year, to_year):\n",
    "        results = results.append(get_census_year(year, variables, geography))\n",
    "    \n",
    "    return results"
   ]
  },
  {
   "cell_type": "markdown",
   "metadata": {},
   "source": [
    "## Race, age, median household income, SNAP enrollment, own vs. rent"
   ]
  },
  {
   "cell_type": "markdown",
   "metadata": {},
   "source": [
    "### Counties and county equivalents"
   ]
  },
  {
   "cell_type": "code",
   "execution_count": 5,
   "metadata": {},
   "outputs": [],
   "source": [
    "def read_or_save(name, func):\n",
    "    path = 'pickles/' + name + '.pickle.gz'\n",
    "    if (os.path.isfile(path)):\n",
    "        return pd.read_pickle(path)\n",
    "    else:\n",
    "        result = func()\n",
    "        os.makedirs('pickles', exist_ok=True)\n",
    "        result.to_pickle(path)\n",
    "        return result"
   ]
  },
  {
   "cell_type": "markdown",
   "metadata": {},
   "source": [
    "#### Make the API calls"
   ]
  },
  {
   "cell_type": "code",
   "execution_count": 6,
   "metadata": {},
   "outputs": [],
   "source": [
    "# Concatenate the items of the lists of table columns into a single list\n",
    "race_age_inc_snap_ownership_cols = race_cols + age_cols + med_hh_inc_cols + snap_cols + ownership_cols\n",
    "\n",
    "# Iterate through the years\n",
    "race_age_inc_snap_ownership_counties = read_or_save(\n",
    "    'race_age_inc_snap_ownership_counties',\n",
    "    lambda: get_census_years(2009, 2018, race_age_inc_snap_ownership_cols, 'county')\n",
    ")"
   ]
  },
  {
   "cell_type": "markdown",
   "metadata": {},
   "source": [
    "#### Format the returned data"
   ]
  },
  {
   "cell_type": "code",
   "execution_count": 7,
   "metadata": {},
   "outputs": [
    {
     "name": "stdout",
     "output_type": "stream",
     "text": [
      "<class 'pandas.core.frame.DataFrame'>\n",
      "Int64Index: 28985 entries, 1 to 3220\n",
      "Data columns (total 16 columns):\n",
      "year                                  28985 non-null int64\n",
      "fips                                  28985 non-null object\n",
      "geography                             28985 non-null object\n",
      "total_pop                             28985 non-null float64\n",
      "non_white                             28985 non-null float64\n",
      "pct_non_white                         28985 non-null float64\n",
      "under_age_5                           28985 non-null float64\n",
      "pct_under_age_5                       28985 non-null float64\n",
      "age_65_and_over                       28985 non-null float64\n",
      "pct_age_65_and_over                   28985 non-null float64\n",
      "pct_under_age_5_or_age_65_and_over    28985 non-null float64\n",
      "med_hh_inc                            28984 non-null float64\n",
      "hh_snap                               28985 non-null float64\n",
      "pct_hh_snap                           28985 non-null float64\n",
      "hh_renter_occupied                    28985 non-null float64\n",
      "pct_hh_renter_occupied                28985 non-null float64\n",
      "dtypes: float64(13), int64(1), object(2)\n",
      "memory usage: 3.8+ MB\n"
     ]
    }
   ],
   "source": [
    "# Convert data columns to numeric\n",
    "race_age_inc_snap_ownership_counties[race_age_inc_snap_ownership_cols] = race_age_inc_snap_ownership_counties[race_age_inc_snap_ownership_cols].apply(pd.to_numeric, errors='coerce', axis=1)\n",
    "\n",
    "# Create new columns\n",
    "race_age_inc_snap_ownership_counties['under_age_5'] = race_age_inc_snap_ownership_counties[age_cols[:2]].sum(axis=1)\n",
    "race_age_inc_snap_ownership_counties['age_65_and_over'] = race_age_inc_snap_ownership_counties[age_cols[2:]].sum(axis=1)\n",
    "race_age_inc_snap_ownership_counties['non_white'] = race_age_inc_snap_ownership_counties['B03002_001E'] - race_age_inc_snap_ownership_counties['B03002_003E']\n",
    "race_age_inc_snap_ownership_counties['pct_non_white'] = race_age_inc_snap_ownership_counties['non_white'] / race_age_inc_snap_ownership_counties['B03002_001E']\n",
    "race_age_inc_snap_ownership_counties['pct_under_age_5'] = race_age_inc_snap_ownership_counties['under_age_5'] / race_age_inc_snap_ownership_counties['B03002_001E']\n",
    "race_age_inc_snap_ownership_counties['pct_age_65_and_over'] = race_age_inc_snap_ownership_counties['age_65_and_over'] / race_age_inc_snap_ownership_counties['B03002_001E']\n",
    "race_age_inc_snap_ownership_counties['pct_under_age_5_or_age_65_and_over'] = (race_age_inc_snap_ownership_counties['under_age_5'] + race_age_inc_snap_ownership_counties['age_65_and_over']) / race_age_inc_snap_ownership_counties['B03002_001E']\n",
    "race_age_inc_snap_ownership_counties['pct_hh_snap'] = race_age_inc_snap_ownership_counties['B22001_002E'] / (race_age_inc_snap_ownership_counties['B22001_002E'] + race_age_inc_snap_ownership_counties['B22001_005E'])\n",
    "race_age_inc_snap_ownership_counties['pct_hh_renter_occupied'] = race_age_inc_snap_ownership_counties['B25003_003E'] / (race_age_inc_snap_ownership_counties['B25003_002E'] + race_age_inc_snap_ownership_counties['B25003_003E'])\n",
    "race_age_inc_snap_ownership_counties['fips'] = race_age_inc_snap_ownership_counties['state'] + race_age_inc_snap_ownership_counties['county']\n",
    "\n",
    "# Drop the columns we no longer need\n",
    "race_age_inc_snap_ownership_counties = race_age_inc_snap_ownership_counties.drop(age_cols, axis=1)\n",
    "race_age_inc_snap_ownership_counties = race_age_inc_snap_ownership_counties.drop(['B03002_003E', 'B22001_005E', 'B25003_002E', 'state', 'county'], axis=1)\n",
    "\n",
    "# Rename and reorder the columns\n",
    "race_age_inc_snap_ownership_counties.columns = ['total_pop', 'med_hh_inc', 'hh_snap', 'hh_renter_occupied', 'geography', 'year', 'under_age_5', 'age_65_and_over', 'non_white',\n",
    "                                                'pct_non_white', 'pct_under_age_5', 'pct_age_65_and_over', 'pct_under_age_5_or_age_65_and_over', 'pct_hh_snap', 'pct_hh_renter_occupied',\n",
    "                                                'fips']\n",
    "race_age_inc_snap_ownership_counties = race_age_inc_snap_ownership_counties[['year', 'fips', 'geography', 'total_pop', 'non_white', 'pct_non_white',\n",
    "                                                                             'under_age_5', 'pct_under_age_5', 'age_65_and_over', 'pct_age_65_and_over', 'pct_under_age_5_or_age_65_and_over',\n",
    "                                                                             'med_hh_inc', 'hh_snap', 'pct_hh_snap', 'hh_renter_occupied', 'pct_hh_renter_occupied']]\n",
    "\n",
    "race_age_inc_snap_ownership_counties = race_age_inc_snap_ownership_counties\n",
    "race_age_inc_snap_ownership_counties.info()"
   ]
  },
  {
   "cell_type": "markdown",
   "metadata": {},
   "source": [
    "### Native American Reservations"
   ]
  },
  {
   "cell_type": "markdown",
   "metadata": {},
   "source": [
    "#### Make the API calls"
   ]
  },
  {
   "cell_type": "code",
   "execution_count": 8,
   "metadata": {},
   "outputs": [],
   "source": [
    "# Concatenate the items of the lists of table columns into a single list\n",
    "race_age_inc_snap_ownership_cols = race_cols + age_cols + med_hh_inc_cols + snap_cols + ownership_cols\n",
    "\n",
    "# Iterate through the years\n",
    "race_age_inc_snap_ownership_reservations = read_or_save(\n",
    "    'race_age_inc_snap_ownership_reservations',\n",
    "    lambda: get_census_years(2009, 2018, race_age_inc_snap_ownership_cols, 'american indian area/alaska native area/hawaiian home land')\n",
    ")"
   ]
  },
  {
   "cell_type": "markdown",
   "metadata": {},
   "source": [
    "#### Format the returned data"
   ]
  },
  {
   "cell_type": "code",
   "execution_count": 9,
   "metadata": {},
   "outputs": [
    {
     "name": "stdout",
     "output_type": "stream",
     "text": [
      "<class 'pandas.core.frame.DataFrame'>\n",
      "Int64Index: 6200 entries, 1 to 694\n",
      "Data columns (total 16 columns):\n",
      "year                                  6200 non-null int64\n",
      "fips                                  6200 non-null object\n",
      "geography                             6200 non-null object\n",
      "total_pop                             6200 non-null float64\n",
      "non_white                             6200 non-null float64\n",
      "pct_non_white                         5474 non-null float64\n",
      "under_age_5                           6200 non-null float64\n",
      "pct_under_age_5                       5474 non-null float64\n",
      "age_65_and_over                       6200 non-null float64\n",
      "pct_age_65_and_over                   5474 non-null float64\n",
      "pct_under_age_5_or_age_65_and_over    5474 non-null float64\n",
      "med_hh_inc                            6056 non-null float64\n",
      "hh_snap                               6200 non-null float64\n",
      "pct_hh_snap                           5454 non-null float64\n",
      "hh_renter_occupied                    6200 non-null float64\n",
      "pct_hh_renter_occupied                5454 non-null float64\n",
      "dtypes: float64(13), int64(1), object(2)\n",
      "memory usage: 823.4+ KB\n"
     ]
    }
   ],
   "source": [
    "# Convert data columns to numeric\n",
    "race_age_inc_snap_ownership_reservations[race_age_inc_snap_ownership_cols] = race_age_inc_snap_ownership_reservations[race_age_inc_snap_ownership_cols].apply(pd.to_numeric, errors='coerce', axis=1)\n",
    "\n",
    "# Create new columns\n",
    "race_age_inc_snap_ownership_reservations['under_age_5'] = race_age_inc_snap_ownership_reservations[age_cols[:2]].sum(axis=1)\n",
    "race_age_inc_snap_ownership_reservations['age_65_and_over'] = race_age_inc_snap_ownership_reservations[age_cols[2:]].sum(axis=1)\n",
    "race_age_inc_snap_ownership_reservations['non_white'] = race_age_inc_snap_ownership_reservations['B03002_001E'] - race_age_inc_snap_ownership_reservations['B03002_003E']\n",
    "race_age_inc_snap_ownership_reservations['pct_non_white'] = race_age_inc_snap_ownership_reservations['non_white'] / race_age_inc_snap_ownership_reservations['B03002_001E']\n",
    "race_age_inc_snap_ownership_reservations['pct_under_age_5'] = race_age_inc_snap_ownership_reservations['under_age_5'] / race_age_inc_snap_ownership_reservations['B03002_001E']\n",
    "race_age_inc_snap_ownership_reservations['pct_age_65_and_over'] = race_age_inc_snap_ownership_reservations['age_65_and_over'] / race_age_inc_snap_ownership_reservations['B03002_001E']\n",
    "race_age_inc_snap_ownership_reservations['pct_under_age_5_or_age_65_and_over'] = (race_age_inc_snap_ownership_reservations['under_age_5'] + race_age_inc_snap_ownership_reservations['age_65_and_over']) / race_age_inc_snap_ownership_reservations['B03002_001E']\n",
    "race_age_inc_snap_ownership_reservations['pct_hh_snap'] = race_age_inc_snap_ownership_reservations['B22001_002E'] / (race_age_inc_snap_ownership_reservations['B22001_002E'] + race_age_inc_snap_ownership_reservations['B22001_005E'])\n",
    "race_age_inc_snap_ownership_reservations['pct_hh_renter_occupied'] = race_age_inc_snap_ownership_reservations['B25003_003E'] / (race_age_inc_snap_ownership_reservations['B25003_002E'] + race_age_inc_snap_ownership_reservations['B25003_003E'])\n",
    "\n",
    "# Drop the columns we no longer need\n",
    "race_age_inc_snap_ownership_reservations = race_age_inc_snap_ownership_reservations.drop(age_cols, axis=1)\n",
    "race_age_inc_snap_ownership_reservations = race_age_inc_snap_ownership_reservations.drop(['B03002_003E', 'B22001_005E', 'B25003_002E'], axis=1)\n",
    "\n",
    "# Rename and reorder the columns\n",
    "race_age_inc_snap_ownership_reservations.columns = ['total_pop', 'med_hh_inc', 'hh_snap', 'hh_renter_occupied', 'geography', 'fips', 'year', 'under_age_5', 'age_65_and_over', 'non_white',\n",
    "                                                'pct_non_white', 'pct_under_age_5', 'pct_age_65_and_over', 'pct_under_age_5_or_age_65_and_over', 'pct_hh_snap', 'pct_hh_renter_occupied']\n",
    "race_age_inc_snap_ownership_reservations = race_age_inc_snap_ownership_reservations[['year', 'fips', 'geography', 'total_pop', 'non_white', 'pct_non_white',\n",
    "                                                                                     'under_age_5', 'pct_under_age_5', 'age_65_and_over', 'pct_age_65_and_over', 'pct_under_age_5_or_age_65_and_over',\n",
    "                                                                                     'med_hh_inc', 'hh_snap', 'pct_hh_snap', 'hh_renter_occupied', 'pct_hh_renter_occupied']]\n",
    "\n",
    "race_age_inc_snap_ownership_reservations = race_age_inc_snap_ownership_reservations\n",
    "race_age_inc_snap_ownership_reservations.info()"
   ]
  },
  {
   "cell_type": "markdown",
   "metadata": {},
   "source": [
    "### United States"
   ]
  },
  {
   "cell_type": "markdown",
   "metadata": {},
   "source": [
    "#### Make the API calls"
   ]
  },
  {
   "cell_type": "code",
   "execution_count": 10,
   "metadata": {},
   "outputs": [],
   "source": [
    "# Concatenate the items of the lists of table columns into a single list\n",
    "race_age_inc_snap_ownership_cols = race_cols + age_cols + med_hh_inc_cols + snap_cols + ownership_cols\n",
    "\n",
    "# Iterate through the years\n",
    "race_age_inc_snap_ownership_us = read_or_save(\n",
    "    'race_age_inc_snap_ownership_us',\n",
    "    lambda: get_census_years(2009, 2018, race_age_inc_snap_ownership_cols, 'us')\n",
    ")"
   ]
  },
  {
   "cell_type": "markdown",
   "metadata": {},
   "source": [
    "#### Format the returned data"
   ]
  },
  {
   "cell_type": "code",
   "execution_count": 11,
   "metadata": {},
   "outputs": [
    {
     "name": "stdout",
     "output_type": "stream",
     "text": [
      "<class 'pandas.core.frame.DataFrame'>\n",
      "Int64Index: 9 entries, 1 to 1\n",
      "Data columns (total 16 columns):\n",
      "year                                  9 non-null int64\n",
      "fips                                  9 non-null object\n",
      "geography                             9 non-null object\n",
      "total_pop                             9 non-null int64\n",
      "non_white                             9 non-null int64\n",
      "pct_non_white                         9 non-null float64\n",
      "under_age_5                           9 non-null int64\n",
      "pct_under_age_5                       9 non-null float64\n",
      "age_65_and_over                       9 non-null int64\n",
      "pct_age_65_and_over                   9 non-null float64\n",
      "pct_under_age_5_or_age_65_and_over    9 non-null float64\n",
      "med_hh_inc                            9 non-null int64\n",
      "hh_snap                               9 non-null int64\n",
      "pct_hh_snap                           9 non-null float64\n",
      "hh_renter_occupied                    9 non-null int64\n",
      "pct_hh_renter_occupied                9 non-null float64\n",
      "dtypes: float64(6), int64(8), object(2)\n",
      "memory usage: 1.2+ KB\n"
     ]
    }
   ],
   "source": [
    "# Convert data columns to numeric\n",
    "race_age_inc_snap_ownership_us[race_age_inc_snap_ownership_cols] = race_age_inc_snap_ownership_us[race_age_inc_snap_ownership_cols].apply(pd.to_numeric, errors='coerce', axis=1)\n",
    "\n",
    "# Create new columns\n",
    "race_age_inc_snap_ownership_us['under_age_5'] = race_age_inc_snap_ownership_us[age_cols[:2]].sum(axis=1)\n",
    "race_age_inc_snap_ownership_us['age_65_and_over'] = race_age_inc_snap_ownership_us[age_cols[2:]].sum(axis=1)\n",
    "race_age_inc_snap_ownership_us['non_white'] = race_age_inc_snap_ownership_us['B03002_001E'] - race_age_inc_snap_ownership_us['B03002_003E']\n",
    "race_age_inc_snap_ownership_us['pct_non_white'] = race_age_inc_snap_ownership_us['non_white'] / race_age_inc_snap_ownership_us['B03002_001E']\n",
    "race_age_inc_snap_ownership_us['pct_under_age_5'] = race_age_inc_snap_ownership_us['under_age_5'] / race_age_inc_snap_ownership_us['B03002_001E']\n",
    "race_age_inc_snap_ownership_us['pct_age_65_and_over'] = race_age_inc_snap_ownership_us['age_65_and_over'] / race_age_inc_snap_ownership_us['B03002_001E']\n",
    "race_age_inc_snap_ownership_us['pct_under_age_5_or_age_65_and_over'] = (race_age_inc_snap_ownership_us['under_age_5'] + race_age_inc_snap_ownership_us['age_65_and_over']) / race_age_inc_snap_ownership_us['B03002_001E']\n",
    "race_age_inc_snap_ownership_us['pct_hh_snap'] = race_age_inc_snap_ownership_us['B22001_002E'] / (race_age_inc_snap_ownership_us['B22001_002E'] + race_age_inc_snap_ownership_us['B22001_005E'])\n",
    "race_age_inc_snap_ownership_us['pct_hh_renter_occupied'] = race_age_inc_snap_ownership_us['B25003_003E'] / (race_age_inc_snap_ownership_us['B25003_002E'] + race_age_inc_snap_ownership_us['B25003_003E'])\n",
    "\n",
    "# Drop the columns we no longer need\n",
    "race_age_inc_snap_ownership_us = race_age_inc_snap_ownership_us.drop(age_cols, axis=1)\n",
    "race_age_inc_snap_ownership_us = race_age_inc_snap_ownership_us.drop(['B03002_003E', 'B22001_005E', 'B25003_002E'], axis=1)\n",
    "\n",
    "# Rename and reorder the columns\n",
    "race_age_inc_snap_ownership_us.columns = ['total_pop', 'med_hh_inc', 'hh_snap', 'hh_renter_occupied', 'geography', 'fips', 'year', 'under_age_5', 'age_65_and_over', 'non_white',\n",
    "                                                'pct_non_white', 'pct_under_age_5', 'pct_age_65_and_over', 'pct_under_age_5_or_age_65_and_over', 'pct_hh_snap', 'pct_hh_renter_occupied']\n",
    "race_age_inc_snap_ownership_us = race_age_inc_snap_ownership_us[['year', 'fips', 'geography', 'total_pop', 'non_white', 'pct_non_white',\n",
    "                                                                                     'under_age_5', 'pct_under_age_5', 'age_65_and_over', 'pct_age_65_and_over', 'pct_under_age_5_or_age_65_and_over',\n",
    "                                                                                     'med_hh_inc', 'hh_snap', 'pct_hh_snap', 'hh_renter_occupied', 'pct_hh_renter_occupied']]\n",
    "\n",
    "race_age_inc_snap_ownership_us = race_age_inc_snap_ownership_us\n",
    "race_age_inc_snap_ownership_us.info()"
   ]
  },
  {
   "cell_type": "markdown",
   "metadata": {},
   "source": [
    "## Working Age Population"
   ]
  },
  {
   "cell_type": "markdown",
   "metadata": {},
   "source": [
    "### Counties and county equivalents"
   ]
  },
  {
   "cell_type": "markdown",
   "metadata": {},
   "source": [
    "#### Make the API calls"
   ]
  },
  {
   "cell_type": "code",
   "execution_count": 12,
   "metadata": {},
   "outputs": [],
   "source": [
    "# Iterate through the years\n",
    "working_age_pop_counties = read_or_save(\n",
    "    'working_age_pop_counties',\n",
    "    lambda: get_census_years(2009, 2018, working_age_pop_cols, 'county')\n",
    ")"
   ]
  },
  {
   "cell_type": "markdown",
   "metadata": {},
   "source": [
    "#### Format the returned data"
   ]
  },
  {
   "cell_type": "code",
   "execution_count": 13,
   "metadata": {},
   "outputs": [
    {
     "name": "stdout",
     "output_type": "stream",
     "text": [
      "<class 'pandas.core.frame.DataFrame'>\n",
      "Int64Index: 28985 entries, 1 to 3220\n",
      "Data columns (total 4 columns):\n",
      "year               28985 non-null int64\n",
      "fips               28985 non-null object\n",
      "geography          28985 non-null object\n",
      "working_age_pop    28985 non-null int64\n",
      "dtypes: int64(2), object(2)\n",
      "memory usage: 1.1+ MB\n"
     ]
    }
   ],
   "source": [
    "# Convert data columns to numeric\n",
    "working_age_pop_counties[working_age_pop_cols] = working_age_pop_counties[working_age_pop_cols].apply(pd.to_numeric, errors='coerce', axis=1)\n",
    "\n",
    "# Create new columns\n",
    "working_age_pop_counties['working_age_pop_counties'] = working_age_pop_counties[working_age_pop_cols[:26]].sum(axis=1)\n",
    "working_age_pop_counties['fips'] = working_age_pop_counties['state'] + working_age_pop_counties['county']\n",
    "\n",
    "# Drop the columns we no longer need\n",
    "working_age_pop_counties = working_age_pop_counties.drop(working_age_pop_cols, axis=1)\n",
    "working_age_pop_counties = working_age_pop_counties.drop(['state', 'county'], axis=1)\n",
    "\n",
    "# Rename and reorder the columns\n",
    "working_age_pop_counties.columns = ['geography', 'year', 'working_age_pop', 'fips']\n",
    "working_age_pop_counties = working_age_pop_counties[['year', 'fips', 'geography', 'working_age_pop']]\n",
    "\n",
    "working_age_pop_counties_counties = working_age_pop_counties\n",
    "working_age_pop_counties_counties.info()"
   ]
  },
  {
   "cell_type": "markdown",
   "metadata": {},
   "source": [
    "### Native American Reservations"
   ]
  },
  {
   "cell_type": "markdown",
   "metadata": {},
   "source": [
    "#### Make the API calls"
   ]
  },
  {
   "cell_type": "code",
   "execution_count": 14,
   "metadata": {},
   "outputs": [],
   "source": [
    "# Iterate through the years\n",
    "working_age_pop_reservations = read_or_save(\n",
    "    'working_age_pop_reservations',\n",
    "    lambda: get_census_years(2009, 2018, working_age_pop_cols, 'american indian area/alaska native area/hawaiian home land')\n",
    ")"
   ]
  },
  {
   "cell_type": "markdown",
   "metadata": {},
   "source": [
    "#### Format the returned data"
   ]
  },
  {
   "cell_type": "code",
   "execution_count": 15,
   "metadata": {},
   "outputs": [
    {
     "name": "stdout",
     "output_type": "stream",
     "text": [
      "<class 'pandas.core.frame.DataFrame'>\n",
      "Int64Index: 6200 entries, 1 to 694\n",
      "Data columns (total 4 columns):\n",
      "year               6200 non-null int64\n",
      "fips               6200 non-null object\n",
      "geography          6200 non-null object\n",
      "working_age_pop    6200 non-null int64\n",
      "dtypes: int64(2), object(2)\n",
      "memory usage: 242.2+ KB\n"
     ]
    }
   ],
   "source": [
    "# Convert data columns to numeric\n",
    "working_age_pop_reservations[working_age_pop_cols] = working_age_pop_reservations[working_age_pop_cols].apply(pd.to_numeric, errors='coerce', axis=1)\n",
    "\n",
    "# Create new columns\n",
    "working_age_pop_reservations['working_age_pop_reservations'] = working_age_pop_reservations[working_age_pop_cols[:26]].sum(axis=1)\n",
    "\n",
    "# Drop the columns we no longer need\n",
    "working_age_pop_reservations = working_age_pop_reservations.drop(working_age_pop_cols, axis=1)\n",
    "\n",
    "# Rename and reorder the columns\n",
    "working_age_pop_reservations.columns = ['geography', 'fips', 'year', 'working_age_pop']\n",
    "working_age_pop_reservations = working_age_pop_reservations[['year', 'fips', 'geography', 'working_age_pop']]\n",
    "\n",
    "working_age_pop_reservations = working_age_pop_reservations\n",
    "working_age_pop_reservations.info()"
   ]
  },
  {
   "cell_type": "markdown",
   "metadata": {},
   "source": [
    "### United States"
   ]
  },
  {
   "cell_type": "markdown",
   "metadata": {},
   "source": [
    "#### Make the API calls"
   ]
  },
  {
   "cell_type": "code",
   "execution_count": 16,
   "metadata": {},
   "outputs": [],
   "source": [
    "# Iterate through the years\n",
    "working_age_pop_us = read_or_save(\n",
    "    'working_age_pop_us',\n",
    "    lambda: get_census_years(2009, 2018, working_age_pop_cols, 'us')\n",
    ")"
   ]
  },
  {
   "cell_type": "markdown",
   "metadata": {},
   "source": [
    "#### Format the returned data"
   ]
  },
  {
   "cell_type": "code",
   "execution_count": 17,
   "metadata": {},
   "outputs": [
    {
     "name": "stdout",
     "output_type": "stream",
     "text": [
      "<class 'pandas.core.frame.DataFrame'>\n",
      "Int64Index: 9 entries, 1 to 1\n",
      "Data columns (total 4 columns):\n",
      "year               9 non-null int64\n",
      "fips               9 non-null object\n",
      "geography          9 non-null object\n",
      "working_age_pop    9 non-null int64\n",
      "dtypes: int64(2), object(2)\n",
      "memory usage: 360.0+ bytes\n"
     ]
    }
   ],
   "source": [
    "# Convert data columns to numeric\n",
    "working_age_pop_us[working_age_pop_cols] = working_age_pop_us[working_age_pop_cols].apply(pd.to_numeric, errors='coerce', axis=1)\n",
    "\n",
    "# Create new columns\n",
    "working_age_pop_us['working_age_pop_us'] = working_age_pop_us[working_age_pop_cols[:26]].sum(axis=1)\n",
    "\n",
    "# Drop the columns we no longer need\n",
    "working_age_pop_us = working_age_pop_us.drop(working_age_pop_cols, axis=1)\n",
    "\n",
    "# Rename and reorder the columns\n",
    "working_age_pop_us.columns = ['geography', 'fips', 'year', 'working_age_pop']\n",
    "working_age_pop_us = working_age_pop_us[['year', 'fips', 'geography', 'working_age_pop']]\n",
    "\n",
    "working_age_pop_us = working_age_pop_us\n",
    "working_age_pop_us.info()"
   ]
  },
  {
   "cell_type": "markdown",
   "metadata": {},
   "source": [
    "## Unemployed Population"
   ]
  },
  {
   "cell_type": "markdown",
   "metadata": {},
   "source": [
    "### Counties and county equivalents"
   ]
  },
  {
   "cell_type": "markdown",
   "metadata": {},
   "source": [
    "#### Make the API calls"
   ]
  },
  {
   "cell_type": "code",
   "execution_count": 18,
   "metadata": {},
   "outputs": [],
   "source": [
    "# Iterate through the years\n",
    "unemployed_pop_counties = read_or_save(\n",
    "    'unemployed_pop_counties',\n",
    "    lambda: get_census_years(2009, 2018, unemployed_pop_cols, 'county')\n",
    ")"
   ]
  },
  {
   "cell_type": "markdown",
   "metadata": {},
   "source": [
    "#### Format the returned data"
   ]
  },
  {
   "cell_type": "code",
   "execution_count": 19,
   "metadata": {},
   "outputs": [
    {
     "name": "stdout",
     "output_type": "stream",
     "text": [
      "<class 'pandas.core.frame.DataFrame'>\n",
      "Int64Index: 28985 entries, 1 to 3220\n",
      "Data columns (total 4 columns):\n",
      "year              28985 non-null int64\n",
      "fips              28985 non-null object\n",
      "geography         28985 non-null object\n",
      "unemployed_pop    28985 non-null int64\n",
      "dtypes: int64(2), object(2)\n",
      "memory usage: 1.1+ MB\n"
     ]
    }
   ],
   "source": [
    "# Convert data columns to numeric\n",
    "unemployed_pop_counties[unemployed_pop_cols] = unemployed_pop_counties[unemployed_pop_cols].apply(pd.to_numeric, errors='coerce', axis=1)\n",
    "\n",
    "# Create new columns\n",
    "unemployed_pop_counties['unemployed_pop_counties'] = unemployed_pop_counties[unemployed_pop_cols[:26]].sum(axis=1)\n",
    "unemployed_pop_counties['fips'] = unemployed_pop_counties['state'] + unemployed_pop_counties['county']\n",
    "\n",
    "# Drop the columns we no longer need\n",
    "unemployed_pop_counties = unemployed_pop_counties.drop(unemployed_pop_cols, axis=1)\n",
    "unemployed_pop_counties = unemployed_pop_counties.drop(['state', 'county'], axis=1)\n",
    "\n",
    "# Rename and reorder the columns\n",
    "unemployed_pop_counties.columns = ['geography', 'year', 'unemployed_pop', 'fips']\n",
    "unemployed_pop_counties = unemployed_pop_counties[['year', 'fips', 'geography', 'unemployed_pop']]\n",
    "\n",
    "unemployed_pop_counties = unemployed_pop_counties\n",
    "unemployed_pop_counties.info()"
   ]
  },
  {
   "cell_type": "markdown",
   "metadata": {},
   "source": [
    "### Native American Reservations"
   ]
  },
  {
   "cell_type": "markdown",
   "metadata": {},
   "source": [
    "#### Make the API calls"
   ]
  },
  {
   "cell_type": "code",
   "execution_count": 20,
   "metadata": {},
   "outputs": [],
   "source": [
    "# Iterate through the years\n",
    "unemployed_pop_reservations = read_or_save(\n",
    "    'unemployed_pop_reservations',\n",
    "    lambda: get_census_years(2009, 2018, unemployed_pop_cols, 'american indian area/alaska native area/hawaiian home land')\n",
    ")"
   ]
  },
  {
   "cell_type": "markdown",
   "metadata": {},
   "source": [
    "#### Format the returned data"
   ]
  },
  {
   "cell_type": "code",
   "execution_count": 21,
   "metadata": {},
   "outputs": [
    {
     "name": "stdout",
     "output_type": "stream",
     "text": [
      "<class 'pandas.core.frame.DataFrame'>\n",
      "Int64Index: 6200 entries, 1 to 694\n",
      "Data columns (total 4 columns):\n",
      "year              6200 non-null int64\n",
      "fips              6200 non-null object\n",
      "geography         6200 non-null object\n",
      "unemployed_pop    6200 non-null int64\n",
      "dtypes: int64(2), object(2)\n",
      "memory usage: 242.2+ KB\n"
     ]
    }
   ],
   "source": [
    "# Convert data columns to numeric\n",
    "unemployed_pop_reservations[unemployed_pop_cols] = unemployed_pop_reservations[unemployed_pop_cols].apply(pd.to_numeric, errors='coerce', axis=1)\n",
    "\n",
    "# Create new columns\n",
    "unemployed_pop_reservations['unemployed_pop_reservations'] = unemployed_pop_reservations[unemployed_pop_cols[:26]].sum(axis=1)\n",
    "\n",
    "# Drop the columns we no longer need\n",
    "unemployed_pop_reservations = unemployed_pop_reservations.drop(unemployed_pop_cols, axis=1)\n",
    "\n",
    "# Rename and reorder the columns\n",
    "unemployed_pop_reservations.columns = ['geography', 'fips', 'year', 'unemployed_pop',]\n",
    "unemployed_pop_reservations = unemployed_pop_reservations[['year', 'fips', 'geography', 'unemployed_pop']]\n",
    "\n",
    "unemployed_pop_reservations = unemployed_pop_reservations\n",
    "unemployed_pop_reservations.info()"
   ]
  },
  {
   "cell_type": "markdown",
   "metadata": {},
   "source": [
    "### United States"
   ]
  },
  {
   "cell_type": "markdown",
   "metadata": {},
   "source": [
    "#### Make the API calls"
   ]
  },
  {
   "cell_type": "code",
   "execution_count": 22,
   "metadata": {},
   "outputs": [],
   "source": [
    "# Iterate through the years\n",
    "unemployed_pop_us = read_or_save(\n",
    "    'unemployed_pop_us',\n",
    "    lambda: get_census_years(2009, 2018, unemployed_pop_cols, 'us')\n",
    ")"
   ]
  },
  {
   "cell_type": "markdown",
   "metadata": {},
   "source": [
    "#### Format the returned data"
   ]
  },
  {
   "cell_type": "code",
   "execution_count": 23,
   "metadata": {},
   "outputs": [
    {
     "name": "stdout",
     "output_type": "stream",
     "text": [
      "<class 'pandas.core.frame.DataFrame'>\n",
      "Int64Index: 9 entries, 1 to 1\n",
      "Data columns (total 4 columns):\n",
      "year              9 non-null int64\n",
      "fips              9 non-null object\n",
      "geography         9 non-null object\n",
      "unemployed_pop    9 non-null int64\n",
      "dtypes: int64(2), object(2)\n",
      "memory usage: 360.0+ bytes\n"
     ]
    }
   ],
   "source": [
    "# Convert data columns to numeric\n",
    "unemployed_pop_us[unemployed_pop_cols] = unemployed_pop_us[unemployed_pop_cols].apply(pd.to_numeric, errors='coerce', axis=1)\n",
    "\n",
    "# Create new columns\n",
    "unemployed_pop_us['unemployed_pop_us'] = unemployed_pop_us[unemployed_pop_cols[:26]].sum(axis=1)\n",
    "\n",
    "# Drop the columns we no longer need\n",
    "unemployed_pop_us = unemployed_pop_us.drop(unemployed_pop_cols, axis=1)\n",
    "\n",
    "# Rename and reorder the columns\n",
    "unemployed_pop_us.columns = ['geography', 'fips', 'year', 'unemployed_pop',]\n",
    "unemployed_pop_us = unemployed_pop_us[['year', 'fips', 'geography', 'unemployed_pop']]\n",
    "\n",
    "unemployed_pop_us = unemployed_pop_us\n",
    "unemployed_pop_us.info()"
   ]
  },
  {
   "cell_type": "markdown",
   "metadata": {},
   "source": [
    "## Join the county dataframes"
   ]
  },
  {
   "cell_type": "code",
   "execution_count": 24,
   "metadata": {},
   "outputs": [
    {
     "name": "stdout",
     "output_type": "stream",
     "text": [
      "<class 'pandas.core.frame.DataFrame'>\n",
      "Int64Index: 28985 entries, 0 to 28984\n",
      "Data columns (total 18 columns):\n",
      "year                                  28985 non-null int64\n",
      "fips                                  28985 non-null object\n",
      "geography                             28985 non-null object\n",
      "total_pop                             28985 non-null float64\n",
      "non_white                             28985 non-null float64\n",
      "pct_non_white                         28985 non-null float64\n",
      "under_age_5                           28985 non-null float64\n",
      "pct_under_age_5                       28985 non-null float64\n",
      "age_65_and_over                       28985 non-null float64\n",
      "pct_age_65_and_over                   28985 non-null float64\n",
      "pct_under_age_5_or_age_65_and_over    28985 non-null float64\n",
      "med_hh_inc                            28984 non-null float64\n",
      "hh_snap                               28985 non-null float64\n",
      "pct_hh_snap                           28985 non-null float64\n",
      "hh_renter_occupied                    28985 non-null float64\n",
      "pct_hh_renter_occupied                28985 non-null float64\n",
      "working_age_pop                       28985 non-null int64\n",
      "unemployed_pop                        28985 non-null int64\n",
      "dtypes: float64(13), int64(3), object(2)\n",
      "memory usage: 4.2+ MB\n"
     ]
    }
   ],
   "source": [
    "county_dfs = [race_age_inc_snap_ownership_counties, working_age_pop_counties, unemployed_pop_counties]\n",
    "counties = reduce(lambda left, right: pd.merge(left, right, on=['year', 'fips', 'geography']), county_dfs)\n",
    "counties.info()"
   ]
  },
  {
   "cell_type": "markdown",
   "metadata": {},
   "source": [
    "## Join the reservations dataframes"
   ]
  },
  {
   "cell_type": "code",
   "execution_count": 25,
   "metadata": {},
   "outputs": [
    {
     "name": "stdout",
     "output_type": "stream",
     "text": [
      "<class 'pandas.core.frame.DataFrame'>\n",
      "Int64Index: 6200 entries, 0 to 6199\n",
      "Data columns (total 18 columns):\n",
      "year                                  6200 non-null int64\n",
      "fips                                  6200 non-null object\n",
      "geography                             6200 non-null object\n",
      "total_pop                             6200 non-null float64\n",
      "non_white                             6200 non-null float64\n",
      "pct_non_white                         5474 non-null float64\n",
      "under_age_5                           6200 non-null float64\n",
      "pct_under_age_5                       5474 non-null float64\n",
      "age_65_and_over                       6200 non-null float64\n",
      "pct_age_65_and_over                   5474 non-null float64\n",
      "pct_under_age_5_or_age_65_and_over    5474 non-null float64\n",
      "med_hh_inc                            6056 non-null float64\n",
      "hh_snap                               6200 non-null float64\n",
      "pct_hh_snap                           5454 non-null float64\n",
      "hh_renter_occupied                    6200 non-null float64\n",
      "pct_hh_renter_occupied                5454 non-null float64\n",
      "working_age_pop                       6200 non-null int64\n",
      "unemployed_pop                        6200 non-null int64\n",
      "dtypes: float64(13), int64(3), object(2)\n",
      "memory usage: 920.3+ KB\n"
     ]
    }
   ],
   "source": [
    "reservation_dfs = [race_age_inc_snap_ownership_reservations, working_age_pop_reservations, unemployed_pop_reservations]\n",
    "reservations = reduce(lambda left, right: pd.merge(left, right, on=['year', 'fips', 'geography']), reservation_dfs)\n",
    "reservations.info()"
   ]
  },
  {
   "cell_type": "markdown",
   "metadata": {},
   "source": [
    "## Join the United States dataframes"
   ]
  },
  {
   "cell_type": "code",
   "execution_count": 26,
   "metadata": {},
   "outputs": [
    {
     "name": "stdout",
     "output_type": "stream",
     "text": [
      "<class 'pandas.core.frame.DataFrame'>\n",
      "Int64Index: 9 entries, 0 to 8\n",
      "Data columns (total 18 columns):\n",
      "year                                  9 non-null int64\n",
      "fips                                  9 non-null object\n",
      "geography                             9 non-null object\n",
      "total_pop                             9 non-null int64\n",
      "non_white                             9 non-null int64\n",
      "pct_non_white                         9 non-null float64\n",
      "under_age_5                           9 non-null int64\n",
      "pct_under_age_5                       9 non-null float64\n",
      "age_65_and_over                       9 non-null int64\n",
      "pct_age_65_and_over                   9 non-null float64\n",
      "pct_under_age_5_or_age_65_and_over    9 non-null float64\n",
      "med_hh_inc                            9 non-null int64\n",
      "hh_snap                               9 non-null int64\n",
      "pct_hh_snap                           9 non-null float64\n",
      "hh_renter_occupied                    9 non-null int64\n",
      "pct_hh_renter_occupied                9 non-null float64\n",
      "working_age_pop                       9 non-null int64\n",
      "unemployed_pop                        9 non-null int64\n",
      "dtypes: float64(6), int64(10), object(2)\n",
      "memory usage: 1.3+ KB\n"
     ]
    }
   ],
   "source": [
    "us_dfs = [race_age_inc_snap_ownership_us, working_age_pop_us, unemployed_pop_us]\n",
    "us = reduce(lambda left, right: pd.merge(left, right, on=['year', 'fips', 'geography']), us_dfs)\n",
    "us.info()"
   ]
  },
  {
   "cell_type": "markdown",
   "metadata": {},
   "source": [
    "## Concatenate the county and reservations dataframes"
   ]
  },
  {
   "cell_type": "code",
   "execution_count": 27,
   "metadata": {},
   "outputs": [
    {
     "name": "stdout",
     "output_type": "stream",
     "text": [
      "<class 'pandas.core.frame.DataFrame'>\n",
      "Int64Index: 35185 entries, 0 to 6199\n",
      "Data columns (total 18 columns):\n",
      "year                                  35185 non-null int64\n",
      "fips                                  35185 non-null object\n",
      "geography                             35185 non-null object\n",
      "total_pop                             35185 non-null float64\n",
      "non_white                             35185 non-null float64\n",
      "pct_non_white                         34459 non-null float64\n",
      "under_age_5                           35185 non-null float64\n",
      "pct_under_age_5                       34459 non-null float64\n",
      "age_65_and_over                       35185 non-null float64\n",
      "pct_age_65_and_over                   34459 non-null float64\n",
      "pct_under_age_5_or_age_65_and_over    34459 non-null float64\n",
      "med_hh_inc                            35040 non-null float64\n",
      "hh_snap                               35185 non-null float64\n",
      "pct_hh_snap                           34439 non-null float64\n",
      "hh_renter_occupied                    35185 non-null float64\n",
      "pct_hh_renter_occupied                34439 non-null float64\n",
      "working_age_pop                       35185 non-null int64\n",
      "unemployed_pop                        35185 non-null int64\n",
      "dtypes: float64(13), int64(3), object(2)\n",
      "memory usage: 5.1+ MB\n"
     ]
    }
   ],
   "source": [
    "census = pd.concat([counties, reservations])\n",
    "census.info()"
   ]
  },
  {
   "cell_type": "markdown",
   "metadata": {},
   "source": [
    "## Join the resulting dataframe with the United States dataframe"
   ]
  },
  {
   "cell_type": "code",
   "execution_count": 28,
   "metadata": {},
   "outputs": [
    {
     "name": "stdout",
     "output_type": "stream",
     "text": [
      "<class 'pandas.core.frame.DataFrame'>\n",
      "Int64Index: 35185 entries, 0 to 35184\n",
      "Data columns (total 35 columns):\n",
      "year                                     35185 non-null int64\n",
      "fips                                     35185 non-null object\n",
      "geography                                35185 non-null object\n",
      "total_pop                                35185 non-null float64\n",
      "non_white                                35185 non-null float64\n",
      "pct_non_white                            34459 non-null float64\n",
      "under_age_5                              35185 non-null float64\n",
      "pct_under_age_5                          34459 non-null float64\n",
      "age_65_and_over                          35185 non-null float64\n",
      "pct_age_65_and_over                      34459 non-null float64\n",
      "pct_under_age_5_or_age_65_and_over       34459 non-null float64\n",
      "med_hh_inc                               35040 non-null float64\n",
      "hh_snap                                  35185 non-null float64\n",
      "pct_hh_snap                              34439 non-null float64\n",
      "hh_renter_occupied                       35185 non-null float64\n",
      "pct_hh_renter_occupied                   34439 non-null float64\n",
      "working_age_pop                          35185 non-null int64\n",
      "unemployed_pop                           35185 non-null int64\n",
      "fips_us                                  35185 non-null object\n",
      "geography_us                             35185 non-null object\n",
      "total_pop_us                             35185 non-null int64\n",
      "non_white_us                             35185 non-null int64\n",
      "pct_non_white_us                         35185 non-null float64\n",
      "under_age_5_us                           35185 non-null int64\n",
      "pct_under_age_5_us                       35185 non-null float64\n",
      "age_65_and_over_us                       35185 non-null int64\n",
      "pct_age_65_and_over_us                   35185 non-null float64\n",
      "pct_under_age_5_or_age_65_and_over_us    35185 non-null float64\n",
      "med_hh_inc_us                            35185 non-null int64\n",
      "hh_snap_us                               35185 non-null int64\n",
      "pct_hh_snap_us                           35185 non-null float64\n",
      "hh_renter_occupied_us                    35185 non-null int64\n",
      "pct_hh_renter_occupied_us                35185 non-null float64\n",
      "working_age_pop_us                       35185 non-null int64\n",
      "unemployed_pop_us                        35185 non-null int64\n",
      "dtypes: float64(19), int64(12), object(4)\n",
      "memory usage: 9.7+ MB\n"
     ]
    }
   ],
   "source": [
    "census = census.merge(us, on=['year'], suffixes=[\"\", \"_us\"])\n",
    "census.info()"
   ]
  },
  {
   "cell_type": "markdown",
   "metadata": {},
   "source": [
    "## Calculate the unemployment rate"
   ]
  },
  {
   "cell_type": "code",
   "execution_count": 29,
   "metadata": {},
   "outputs": [
    {
     "name": "stdout",
     "output_type": "stream",
     "text": [
      "<class 'pandas.core.frame.DataFrame'>\n",
      "Int64Index: 35185 entries, 0 to 35184\n",
      "Data columns (total 34 columns):\n",
      "year                                     35185 non-null int64\n",
      "fips                                     35185 non-null object\n",
      "geography                                35185 non-null object\n",
      "total_pop                                35185 non-null float64\n",
      "non_white                                35185 non-null float64\n",
      "pct_non_white                            34459 non-null float64\n",
      "under_age_5                              35185 non-null float64\n",
      "pct_under_age_5                          34459 non-null float64\n",
      "age_65_and_over                          35185 non-null float64\n",
      "pct_age_65_and_over                      34459 non-null float64\n",
      "pct_under_age_5_or_age_65_and_over       34459 non-null float64\n",
      "unemployed_pop                           35185 non-null int64\n",
      "unemployment_rate                        34389 non-null float64\n",
      "med_hh_inc                               35040 non-null float64\n",
      "hh_snap                                  35185 non-null float64\n",
      "pct_hh_snap                              34439 non-null float64\n",
      "hh_renter_occupied                       35185 non-null float64\n",
      "pct_hh_renter_occupied                   34439 non-null float64\n",
      "fips_us                                  35185 non-null object\n",
      "geography_us                             35185 non-null object\n",
      "total_pop_us                             35185 non-null int64\n",
      "non_white_us                             35185 non-null int64\n",
      "pct_non_white_us                         35185 non-null float64\n",
      "under_age_5_us                           35185 non-null int64\n",
      "pct_under_age_5_us                       35185 non-null float64\n",
      "age_65_and_over_us                       35185 non-null int64\n",
      "pct_age_65_and_over_us                   35185 non-null float64\n",
      "pct_under_age_5_or_age_65_and_over_us    35185 non-null float64\n",
      "med_hh_inc_us                            35185 non-null int64\n",
      "hh_snap_us                               35185 non-null int64\n",
      "pct_hh_snap_us                           35185 non-null float64\n",
      "hh_renter_occupied_us                    35185 non-null int64\n",
      "pct_hh_renter_occupied_us                35185 non-null float64\n",
      "unemployed_pop_us                        35185 non-null int64\n",
      "dtypes: float64(20), int64(10), object(4)\n",
      "memory usage: 9.4+ MB\n"
     ]
    }
   ],
   "source": [
    "# Create new columns\n",
    "census['unemployment_rate'] = census['unemployed_pop'] / census['working_age_pop']\n",
    "census['unemployment_rate_us'] = census['unemployed_pop_us'] / census['working_age_pop_us']\n",
    "\n",
    "# Drop the columns we no longer need\n",
    "census = census.drop(['working_age_pop', 'working_age_pop_us'], axis=1)\n",
    "\n",
    "# Reorder the columns\n",
    "census = census[['year', 'fips', 'geography', 'total_pop', 'non_white', 'pct_non_white', 'under_age_5', 'pct_under_age_5', 'age_65_and_over', 'pct_age_65_and_over',\n",
    "                 'pct_under_age_5_or_age_65_and_over', 'unemployed_pop', 'unemployment_rate', 'med_hh_inc', 'hh_snap', 'pct_hh_snap', 'hh_renter_occupied',\n",
    "                 'pct_hh_renter_occupied', 'fips_us', 'geography_us', 'total_pop_us', 'non_white_us', 'pct_non_white_us', 'under_age_5_us', 'pct_under_age_5_us',\n",
    "                 'age_65_and_over_us', 'pct_age_65_and_over_us', 'pct_under_age_5_or_age_65_and_over_us', 'med_hh_inc_us', 'hh_snap_us', 'pct_hh_snap_us',\n",
    "                 'hh_renter_occupied_us', 'pct_hh_renter_occupied_us', 'unemployed_pop_us']]\n",
    "census.info()"
   ]
  },
  {
   "cell_type": "markdown",
   "metadata": {},
   "source": [
    "## Export the data to csv"
   ]
  },
  {
   "cell_type": "code",
   "execution_count": 30,
   "metadata": {},
   "outputs": [],
   "source": [
    "census.to_csv('data/census.csv', index=False)"
   ]
  },
  {
   "cell_type": "code",
   "execution_count": null,
   "metadata": {},
   "outputs": [],
   "source": []
  }
 ],
 "metadata": {
  "kernelspec": {
   "display_name": "Python 3",
   "language": "python",
   "name": "python3"
  },
  "language_info": {
   "codemirror_mode": {
    "name": "ipython",
    "version": 3
   },
   "file_extension": ".py",
   "mimetype": "text/x-python",
   "name": "python",
   "nbconvert_exporter": "python",
   "pygments_lexer": "ipython3",
   "version": "3.6.7"
  }
 },
 "nbformat": 4,
 "nbformat_minor": 2
}
